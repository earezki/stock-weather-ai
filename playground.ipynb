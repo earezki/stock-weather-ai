{
 "cells": [
  {
   "cell_type": "code",
   "execution_count": null,
   "id": "201f3042",
   "metadata": {},
   "outputs": [],
   "source": [
    "from agents import requested_tickers\n",
    "\n",
    "requested_tickers.get_top_movers()"
   ]
  },
  {
   "cell_type": "code",
   "execution_count": null,
   "id": "c03c23c8",
   "metadata": {},
   "outputs": [],
   "source": [
    "from agents import financial\n",
    "\n",
    "financial.get_company_financial_data(\"AAPL\")"
   ]
  },
  {
   "cell_type": "code",
   "execution_count": null,
   "id": "4df9895b",
   "metadata": {},
   "outputs": [],
   "source": [
    "from agents import news\n",
    "\n",
    "await news.get_news(\"AAPL\")"
   ]
  },
  {
   "cell_type": "code",
   "execution_count": null,
   "id": "6df75de0",
   "metadata": {},
   "outputs": [],
   "source": [
    "from tools import scrapping\n",
    "from agents import news\n",
    "\n",
    "docs = await scrapping.async_load_documents_from_urls([\"https://www.investing.com/news/insider-trading-news/fmr-llc-sells-metsera-mtsr-shares-for-9648-93CH-4225213\"])\n",
    "print(docs)\n",
    "\n",
    "print(\"======> Summary\")\n",
    "\n",
    "\n",
    "summary = await news.summarize_docs(docs, query=\"Metsera Inc (MTSR)\")\n",
    "\n",
    "print(summary)"
   ]
  },
  {
   "cell_type": "code",
   "execution_count": null,
   "id": "c4155539",
   "metadata": {},
   "outputs": [],
   "source": [
    "from agents import news\n",
    "\n",
    "results = await news.web_search({\n",
    "    \"category\": \"news\",\n",
    "    \"queries\": [\"MTSR stock\"]\n",
    "})\n",
    "\n",
    "print(f\"web search len={len(results)}\")"
   ]
  },
  {
   "cell_type": "code",
   "execution_count": null,
   "id": "8ec0abcb",
   "metadata": {},
   "outputs": [],
   "source": [
    "from agents import agent\n",
    "\n",
    "agent = agent.Agent()\n",
    "await agent.act()"
   ]
  }
 ],
 "metadata": {
  "kernelspec": {
   "display_name": ".venv",
   "language": "python",
   "name": "python3"
  },
  "language_info": {
   "codemirror_mode": {
    "name": "ipython",
    "version": 3
   },
   "file_extension": ".py",
   "mimetype": "text/x-python",
   "name": "python",
   "nbconvert_exporter": "python",
   "pygments_lexer": "ipython3",
   "version": "3.12.3"
  }
 },
 "nbformat": 4,
 "nbformat_minor": 5
}
